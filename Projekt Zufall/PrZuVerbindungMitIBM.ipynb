{
 "cells": [
  {
   "cell_type": "code",
   "execution_count": 9,
   "id": "2013edb2-4a49-4482-9cff-3c7efb46e7eb",
   "metadata": {},
   "outputs": [
    {
     "data": {
      "image/png": "[encoded data removed]",
      "text/plain": [
       "<Figure size 413.165x200.667 with 1 Axes>"
      ]
     },
     "execution_count": 9,
     "metadata": {},
     "output_type": "execute_result"
    }
   ],
   "source": [
    "from qiskit.circuit.library import HGate\n",
    "from qiskit import QuantumCircuit\n",
    "from qiskit.transpiler import generate_preset_pass_manager\n",
    "from qiskit_ibm_runtime import QiskitRuntimeService\n",
    "from PIL import Image\n",
    "import math\n",
    "\n",
    "\n",
    "# Simulatoren\n",
    "from qiskit_ibm_runtime.fake_provider import FakeAlmadenV2\n",
    "from qiskit_aer import AerSimulator\n",
    "\n",
    "\n",
    "# Quantencircuit erstellen\n",
    "hadamard_gate = HGate()\n",
    "circuit = QuantumCircuit(1)\n",
    "circuit.append(hadamard_gate, [0])\n",
    "circuit.measure_all()\n",
    "\n",
    "# Quantencircuit anzeigen\n",
    "circuit.draw(\"mpl\")"
   ]
  },
  {
   "cell_type": "code",
   "execution_count": 35,
   "id": "c22c042e-a67a-47e3-b527-98d598b10de9",
   "metadata": {},
   "outputs": [],
   "source": [
    "# Füge deinen API-Token ein:\n",
    "token = \"\"\n",
    "\n",
    "# Speichere das Konto lokal und setze es als Standard:\n",
    "QiskitRuntimeService.save_account(\n",
    "    channel=\"ibm_cloud\",         # oder \"ibm_quantum_platform\" bei neuer Plattform\n",
    "    token=token,\n",
    "    instance=\"Projekt Zufall 1\",  # Instanzname\n",
    "    overwrite=True,\n",
    "    set_as_default=True\n",
    ")"
   ]
  },
  {
   "cell_type": "code",
   "execution_count": 60,
   "id": "ecb9edba-648b-4834-93b5-57cc892b5fa2",
   "metadata": {},
   "outputs": [
    {
     "name": "stdout",
     "output_type": "stream",
     "text": [
      "[<IBMBackend('ibm_brisbane')>, <IBMBackend('ibm_sherbrooke')>, <IBMBackend('ibm_torino')>]\n"
     ]
    }
   ],
   "source": [
    "from qiskit_ibm_runtime import QiskitRuntimeService, Sampler\n",
    "service = QiskitRuntimeService()  # lädt deine gespeicherten Credentials\n",
    "print(service.backends())"
   ]
  },
  {
   "cell_type": "code",
   "execution_count": 40,
   "id": "0e528de7-21f7-4017-bf3d-ae30fcf7a96d",
   "metadata": {},
   "outputs": [
    {
     "name": "stdout",
     "output_type": "stream",
     "text": [
      "Job-ID: d1mh6jn29o4s73ar12fg\n"
     ]
    }
   ],
   "source": [
    "from qiskit_ibm_runtime import SamplerV2 as Sampler\n",
    "\n",
    "backend_name = service.backend(name = 'ibm_brisbane')\n",
    "\n",
    "sampler = Sampler(mode=backend_name)\n",
    "job = sampler.run([isa_circuit], shots = 1000)\n",
    "\n",
    "print(\"Job-ID:\", job.job_id())"
   ]
  },
  {
   "cell_type": "code",
   "execution_count": 28,
   "id": "3cac74a9-a356-4e15-99b7-fe1b4b84b038",
   "metadata": {},
   "outputs": [
    {
     "name": "stdout",
     "output_type": "stream",
     "text": [
      "QUEUED\n"
     ]
    }
   ],
   "source": [
    "print(job.status())"
   ]
  },
  {
   "cell_type": "code",
   "execution_count": 41,
   "id": "ee67a1e7-16ce-4279-836a-d0be0d80ef46",
   "metadata": {},
   "outputs": [
    {
     "name": "stdout",
     "output_type": "stream",
     "text": [
      "CANCELLED\n"
     ]
    }
   ],
   "source": [
    "job.cancel()\n",
    "print(job.status())"
   ]
  },
  {
   "cell_type": "code",
   "execution_count": 51,
   "id": "20926941-0208-4fd4-93c4-ff11a1e7abcc",
   "metadata": {},
   "outputs": [
    {
     "name": "stdout",
     "output_type": "stream",
     "text": [
      "Job-Status: DONE\n"
     ]
    }
   ],
   "source": [
    "# (irgendeinen) Job laden, nach Job ID\n",
    "\n",
    "job_id = 'd1mf95n29o4s73aqu9c0'\n",
    "job = service.job(job_id)\n",
    "\n",
    "# 4. Warten bis abgeschlossen\n",
    "job_status = job.status()\n",
    "print(f\"Job-Status: {job_status}\")\n",
    "result = job.result()"
   ]
  },
  {
   "cell_type": "code",
   "execution_count": 52,
   "id": "4a572ca7-84b5-4d65-a1ea-192a10a8872d",
   "metadata": {},
   "outputs": [
    {
     "name": "stdout",
     "output_type": "stream",
     "text": [
      "Ergebnisse auf echter Hardware: {'results': [{'data': {'c': {'samples': ['0x1', '0x1', '0x0', '0x0', '0x1', '0x0', '0x0', '0x0', '0x0', '0x1', '0x0', '0x0', '0x1', '0x1', '0x1', '0x1', '0x1', '0x0', '0x0', '0x1', '0x0', '0x0', '0x1', '0x0', '0x1', '0x1', '0x0', '0x0', '0x0', '0x1', '0x1', '0x0', '0x1', '0x0', '0x1', '0x1', '0x0', '0x1', '0x0', '0x1', '0x0', '0x0', '0x0', '0x0', '0x1', '0x0', '0x0', '0x0', '0x1', '0x1', '0x1', '0x0', '0x1', '0x0', '0x0', '0x1', '0x1', '0x0', '0x0', '0x0', '0x1', '0x1', '0x1', '0x1', '0x1', '0x1', '0x0', '0x1', '0x0', '0x0', '0x0', '0x1', '0x0', '0x0', '0x0', '0x1', '0x0', '0x1', '0x0', '0x0', '0x1', '0x1', '0x0', '0x0', '0x1', '0x0', '0x1', '0x1', '0x0', '0x0', '0x0', '0x0', '0x0', '0x0', '0x1', '0x1', '0x1', '0x0', '0x1', '0x0', '0x1', '0x1', '0x1', '0x1', '0x1', '0x0', '0x1', '0x1', '0x1', '0x1', '0x0', '0x1', '0x1', '0x1', '0x0', '0x1', '0x0', '0x0', '0x1', '0x0', '0x0', '0x0', '0x1', '0x0', '0x0', '0x1', '0x1', '0x0', '0x1', '0x0', '0x0', '0x1', '0x1', '0x0', '0x1', '0x0', '0x0', '0x0', '0x0', '0x0', '0x0', '0x0', '0x1', '0x1', '0x0', '0x0', '0x0', '0x1', '0x0', '0x1', '0x0', '0x1', '0x0', '0x0', '0x0', '0x1', '0x0', '0x0', '0x1', '0x0', '0x1', '0x0', '0x0', '0x1', '0x0', '0x1', '0x1', '0x0', '0x0', '0x0', '0x1', '0x0', '0x0', '0x1', '0x0', '0x1', '0x1', '0x1', '0x0', '0x0', '0x1', '0x0', '0x1', '0x1', '0x0', '0x0', '0x1', '0x0', '0x0', '0x1', '0x1', '0x0', '0x0', '0x0', '0x1', '0x0', '0x0', '0x1', '0x0', '0x1', '0x1', '0x1', '0x1', '0x0', '0x0', '0x0', '0x1', '0x1', '0x1', '0x1', '0x0', '0x0', '0x1', '0x0', '0x0', '0x0', '0x0', '0x1', '0x1', '0x1', '0x1', '0x0', '0x0', '0x0', '0x1', '0x0', '0x0', '0x0', '0x0', '0x1', '0x1', '0x0', '0x0', '0x0', '0x0', '0x0', '0x1', '0x1', '0x0', '0x0', '0x1', '0x1', '0x0', '0x0', '0x0', '0x1', '0x1', '0x1', '0x0', '0x0', '0x0', '0x0', '0x0', '0x0', '0x1', '0x0', '0x0', '0x1', '0x0', '0x1', '0x1', '0x0', '0x1', '0x1', '0x0', '0x0', '0x0', '0x0', '0x0', '0x0', '0x1', '0x0', '0x0', '0x0', '0x1', '0x0', '0x1', '0x1', '0x1', '0x1', '0x1', '0x1', '0x0', '0x1', '0x1', '0x0', '0x0', '0x1', '0x1', '0x0', '0x0', '0x0', '0x1', '0x0', '0x0', '0x1', '0x0', '0x1', '0x0', '0x1', '0x0', '0x0', '0x0', '0x1', '0x1', '0x1', '0x1', '0x0', '0x1', '0x0', '0x0', '0x0', '0x1', '0x0', '0x0', '0x1', '0x0', '0x0', '0x1', '0x0', '0x1', '0x0', '0x1', '0x0', '0x1', '0x0', '0x0', '0x0', '0x1', '0x0', '0x1', '0x0', '0x0', '0x0', '0x1', '0x1', '0x1', '0x1', '0x1', '0x0', '0x1', '0x0', '0x1', '0x1', '0x1', '0x0', '0x1', '0x1', '0x0', '0x0', '0x1', '0x1', '0x1', '0x1', '0x0', '0x1', '0x0', '0x0', '0x0', '0x1', '0x0', '0x1', '0x0', '0x0', '0x0', '0x1', '0x0', '0x1', '0x1', '0x1', '0x1', '0x0', '0x0', '0x0', '0x1', '0x1', '0x0', '0x1', '0x1', '0x1', '0x0', '0x0', '0x0', '0x0', '0x0', '0x0', '0x1', '0x1', '0x1', '0x0', '0x1', '0x1', '0x0', '0x1', '0x1', '0x1', '0x1', '0x1', '0x1', '0x1', '0x0', '0x0', '0x1', '0x1', '0x0', '0x1', '0x1', '0x0', '0x0', '0x0', '0x0', '0x0', '0x0', '0x0', '0x1', '0x0', '0x1', '0x0', '0x1', '0x1', '0x1', '0x1', '0x1', '0x0', '0x1', '0x1', '0x1', '0x1', '0x1', '0x0', '0x1', '0x0', '0x0', '0x1', '0x0', '0x1', '0x1', '0x0', '0x1', '0x1', '0x0', '0x0', '0x0', '0x0', '0x1', '0x1', '0x1', '0x0', '0x0', '0x1', '0x1', '0x0', '0x0', '0x0', '0x1', '0x1', '0x0', '0x0', '0x1', '0x0', '0x0', '0x1', '0x0', '0x1', '0x1', '0x1', '0x1', '0x1', '0x0', '0x1', '0x0', '0x1', '0x1', '0x1', '0x1', '0x0', '0x1', '0x1', '0x1', '0x1', '0x1', '0x0', '0x0', '0x0', '0x0', '0x0', '0x1', '0x0', '0x0', '0x0', '0x1', '0x1', '0x0', '0x1', '0x0', '0x0', '0x1', '0x1', '0x0', '0x0', '0x1', '0x0', '0x1', '0x0', '0x0', '0x1', '0x1', '0x1', '0x0', '0x0', '0x0', '0x1', '0x0', '0x1', '0x1', '0x0', '0x1', '0x1', '0x1', '0x0', '0x0', '0x1', '0x1', '0x1', '0x1', '0x0', '0x0', '0x0', '0x0', '0x0', '0x0', '0x0', '0x1', '0x1', '0x0', '0x1', '0x1', '0x1', '0x0', '0x0', '0x0', '0x0', '0x0', '0x0', '0x0', '0x1', '0x1', '0x0', '0x1', '0x1', '0x1', '0x0', '0x1', '0x1', '0x1', '0x1', '0x1', '0x1', '0x0', '0x0', '0x0', '0x0', '0x0', '0x0', '0x1', '0x0', '0x1', '0x0', '0x1', '0x1', '0x0', '0x1', '0x0', '0x0', '0x0', '0x1', '0x1', '0x0', '0x0', '0x1', '0x1', '0x1', '0x1', '0x0', '0x0', '0x1', '0x0', '0x1', '0x0', '0x0', '0x0', '0x0', '0x1', '0x1', '0x0', '0x1', '0x1', '0x0', '0x0', '0x1', '0x0', '0x1', '0x1', '0x1', '0x1', '0x0', '0x0', '0x0', '0x1', '0x0', '0x1', '0x1', '0x1', '0x1', '0x1', '0x0', '0x1', '0x1', '0x0', '0x1', '0x1', '0x0', '0x1', '0x1', '0x1', '0x1', '0x0', '0x1', '0x0', '0x0', '0x0', '0x1', '0x0', '0x0', '0x0', '0x1', '0x0', '0x0', '0x0', '0x0', '0x0', '0x0', '0x0', '0x1', '0x0', '0x1', '0x1', '0x1', '0x0', '0x1', '0x0', '0x1', '0x1', '0x0', '0x1', '0x0', '0x1', '0x1', '0x0', '0x1', '0x0', '0x0', '0x0', '0x0', '0x0', '0x0', '0x1', '0x1', '0x0', '0x1', '0x0', '0x1', '0x1', '0x0', '0x1', '0x1', '0x0', '0x1', '0x0', '0x1', '0x1', '0x0', '0x1', '0x1', '0x1', '0x0', '0x1', '0x0', '0x0', '0x1', '0x1', '0x1', '0x0', '0x0', '0x0', '0x1', '0x1', '0x0', '0x0', '0x1', '0x0', '0x1', '0x1', '0x1', '0x0', '0x1', '0x1', '0x0', '0x0', '0x1', '0x0', '0x1', '0x0', '0x0', '0x0', '0x0', '0x0', '0x0', '0x0', '0x1', '0x0', '0x0', '0x1', '0x1', '0x0', '0x0', '0x1', '0x1', '0x1', '0x1', '0x0', '0x0', '0x1', '0x0', '0x1', '0x0', '0x0', '0x0', '0x1', '0x0', '0x0', '0x0', '0x0', '0x0', '0x1', '0x1', '0x0', '0x0', '0x0', '0x0', '0x1', '0x1', '0x0', '0x1', '0x0', '0x1', '0x0', '0x0', '0x1', '0x1', '0x1', '0x0', '0x0', '0x0', '0x1', '0x0', '0x1', '0x0', '0x0', '0x0', '0x0', '0x1', '0x0', '0x0', '0x0', '0x1', '0x0', '0x0', '0x0', '0x0', '0x0', '0x0', '0x0', '0x1', '0x0', '0x1', '0x0', '0x0', '0x1', '0x0', '0x1', '0x0', '0x1', '0x0', '0x1', '0x1', '0x1', '0x1', '0x0', '0x0', '0x1', '0x1', '0x1', '0x1', '0x0', '0x0', '0x1', '0x0', '0x0', '0x0', '0x0', '0x1', '0x0', '0x0', '0x0', '0x0', '0x0', '0x0', '0x0', '0x0', '0x0', '0x0', '0x0', '0x1', '0x1', '0x1', '0x1', '0x0', '0x1', '0x0', '0x0', '0x0', '0x1', '0x0', '0x1', '0x1', '0x0', '0x1', '0x0', '0x0', '0x1', '0x1', '0x1', '0x1', '0x1', '0x0', '0x1', '0x1', '0x1', '0x0', '0x0', '0x0', '0x0', '0x1', '0x0', '0x1', '0x0', '0x1', '0x0', '0x0', '0x1', '0x0', '0x0', '0x1', '0x1', '0x1', '0x0', '0x0', '0x0', '0x1', '0x0', '0x0', '0x1', '0x0', '0x1', '0x0', '0x1', '0x1', '0x1', '0x1', '0x0', '0x0', '0x1', '0x0', '0x1', '0x1', '0x1', '0x1', '0x0', '0x0', '0x1', '0x1', '0x1', '0x1', '0x1', '0x0', '0x0', '0x1', '0x1', '0x0', '0x0', '0x0', '0x1', '0x0', '0x0', '0x0', '0x0', '0x0', '0x1', '0x1', '0x0', '0x1', '0x1', '0x1', '0x0', '0x0', '0x1', '0x0', '0x0', '0x1', '0x0', '0x0', '0x0', '0x1', '0x0', '0x0', '0x0', '0x0', '0x1', '0x0', '0x0', '0x0', '0x1', '0x0', '0x0', '0x1', '0x1', '0x0', '0x0', '0x1', '0x1', '0x0', '0x1', '0x1', '0x1', '0x0', '0x1', '0x0', '0x1', '0x1', '0x1', '0x0', '0x1', '0x0', '0x1', '0x0', '0x0', '0x1', '0x1', '0x1', '0x1', '0x1', '0x1', '0x0', '0x1', '0x0', '0x1', '0x0', '0x1', '0x1', '0x0', '0x0', '0x1', '0x0', '0x1', '0x1', '0x0', '0x0', '0x0', '0x1', '0x0', '0x1', '0x0', '0x0', '0x1', '0x1', '0x0', '0x0', '0x0', '0x0', '0x1', '0x0', '0x0', '0x0', '0x1', '0x1', '0x0', '0x1', '0x0', '0x1', '0x1', '0x1', '0x1', '0x1', '0x1', '0x1', '0x0', '0x1', '0x1', '0x0', '0x0', '0x1', '0x1', '0x0', '0x1', '0x0', '0x1', '0x0', '0x1', '0x1', '0x1', '0x0', '0x1', '0x1'], 'num_bits': 1}}, 'metadata': {'circuit_metadata': {}}}], 'metadata': {'execution': {'execution_spans': [[{'date': '2025-07-08T10:36:08.487683'}, {'date': '2025-07-08T10:36:09.358254'}, {'0': [[1024], [0, 1], [0, 1024]]}]]}, 'version': 2}}\n"
     ]
    }
   ],
   "source": [
    "result = job.result()\n",
    "print(\"Ergebnisse auf echter Hardware:\", result)"
   ]
  },
  {
   "cell_type": "code",
   "execution_count": 53,
   "id": "8f750f5c-af58-40a2-9810-6e9e6c9a9046",
   "metadata": {},
   "outputs": [
    {
     "name": "stdout",
     "output_type": "stream",
     "text": [
      "[1, 1, 0, 0, 1, 0, 0, 0, 0, 1, 0, 0, 1, 1, 1, 1, 1, 0, 0, 1, 0, 0, 1, 0, 1, 1, 0, 0, 0, 1, 1, 0, 1, 0, 1, 1, 0, 1, 0, 1, 0, 0, 0, 0, 1, 0, 0, 0, 1, 1, 1, 0, 1, 0, 0, 1, 1, 0, 0, 0, 1, 1, 1, 1, 1, 1, 0, 1, 0, 0, 0, 1, 0, 0, 0, 1, 0, 1, 0, 0, 1, 1, 0, 0, 1, 0, 1, 1, 0, 0, 0, 0, 0, 0, 1, 1, 1, 0, 1, 0, 1, 1, 1, 1, 1, 0, 1, 1, 1, 1, 0, 1, 1, 1, 0, 1, 0, 0, 1, 0, 0, 0, 1, 0, 0, 1, 1, 0, 1, 0, 0, 1, 1, 0, 1, 0, 0, 0, 0, 0, 0, 0, 1, 1, 0, 0, 0, 1, 0, 1, 0, 1, 0, 0, 0, 1, 0, 0, 1, 0, 1, 0, 0, 1, 0, 1, 1, 0, 0, 0, 1, 0, 0, 1, 0, 1, 1, 1, 0, 0, 1, 0, 1, 1, 0, 0, 1, 0, 0, 1, 1, 0, 0, 0, 1, 0, 0, 1, 0, 1, 1, 1, 1, 0, 0, 0, 1, 1, 1, 1, 0, 0, 1, 0, 0, 0, 0, 1, 1, 1, 1, 0, 0, 0, 1, 0, 0, 0, 0, 1, 1, 0, 0, 0, 0, 0, 1, 1, 0, 0, 1, 1, 0, 0, 0, 1, 1, 1, 0, 0, 0, 0, 0, 0, 1, 0, 0, 1, 0, 1, 1, 0, 1, 1, 0, 0, 0, 0, 0, 0, 1, 0, 0, 0, 1, 0, 1, 1, 1, 1, 1, 1, 0, 1, 1, 0, 0, 1, 1, 0, 0, 0, 1, 0, 0, 1, 0, 1, 0, 1, 0, 0, 0, 1, 1, 1, 1, 0, 1, 0, 0, 0, 1, 0, 0, 1, 0, 0, 1, 0, 1, 0, 1, 0, 1, 0, 0, 0, 1, 0, 1, 0, 0, 0, 1, 1, 1, 1, 1, 0, 1, 0, 1, 1, 1, 0, 1, 1, 0, 0, 1, 1, 1, 1, 0, 1, 0, 0, 0, 1, 0, 1, 0, 0, 0, 1, 0, 1, 1, 1, 1, 0, 0, 0, 1, 1, 0, 1, 1, 1, 0, 0, 0, 0, 0, 0, 1, 1, 1, 0, 1, 1, 0, 1, 1, 1, 1, 1, 1, 1, 0, 0, 1, 1, 0, 1, 1, 0, 0, 0, 0, 0, 0, 0, 1, 0, 1, 0, 1, 1, 1, 1, 1, 0, 1, 1, 1, 1, 1, 0, 1, 0, 0, 1, 0, 1, 1, 0, 1, 1, 0, 0, 0, 0, 1, 1, 1, 0, 0, 1, 1, 0, 0, 0, 1, 1, 0, 0, 1, 0, 0, 1, 0, 1, 1, 1, 1, 1, 0, 1, 0, 1, 1, 1, 1, 0, 1, 1, 1, 1, 1, 0, 0, 0, 0, 0, 1, 0, 0, 0, 1, 1, 0, 1, 0, 0, 1, 1, 0, 0, 1, 0, 1, 0, 0, 1, 1, 1, 0, 0, 0, 1, 0, 1, 1, 0, 1, 1, 1, 0, 0, 1, 1, 1, 1, 0, 0, 0, 0, 0, 0, 0, 1, 1, 0, 1, 1, 1, 0, 0, 0, 0, 0, 0, 0, 1, 1, 0, 1, 1, 1, 0, 1, 1, 1, 1, 1, 1, 0, 0, 0, 0, 0, 0, 1, 0, 1, 0, 1, 1, 0, 1, 0, 0, 0, 1, 1, 0, 0, 1, 1, 1, 1, 0, 0, 1, 0, 1, 0, 0, 0, 0, 1, 1, 0, 1, 1, 0, 0, 1, 0, 1, 1, 1, 1, 0, 0, 0, 1, 0, 1, 1, 1, 1, 1, 0, 1, 1, 0, 1, 1, 0, 1, 1, 1, 1, 0, 1, 0, 0, 0, 1, 0, 0, 0, 1, 0, 0, 0, 0, 0, 0, 0, 1, 0, 1, 1, 1, 0, 1, 0, 1, 1, 0, 1, 0, 1, 1, 0, 1, 0, 0, 0, 0, 0, 0, 1, 1, 0, 1, 0, 1, 1, 0, 1, 1, 0, 1, 0, 1, 1, 0, 1, 1, 1, 0, 1, 0, 0, 1, 1, 1, 0, 0, 0, 1, 1, 0, 0, 1, 0, 1, 1, 1, 0, 1, 1, 0, 0, 1, 0, 1, 0, 0, 0, 0, 0, 0, 0, 1, 0, 0, 1, 1, 0, 0, 1, 1, 1, 1, 0, 0, 1, 0, 1, 0, 0, 0, 1, 0, 0, 0, 0, 0, 1, 1, 0, 0, 0, 0, 1, 1, 0, 1, 0, 1, 0, 0, 1, 1, 1, 0, 0, 0, 1, 0, 1, 0, 0, 0, 0, 1, 0, 0, 0, 1, 0, 0, 0, 0, 0, 0, 0, 1, 0, 1, 0, 0, 1, 0, 1, 0, 1, 0, 1, 1, 1, 1, 0, 0, 1, 1, 1, 1, 0, 0, 1, 0, 0, 0, 0, 1, 0, 0, 0, 0, 0, 0, 0, 0, 0, 0, 0, 1, 1, 1, 1, 0, 1, 0, 0, 0, 1, 0, 1, 1, 0, 1, 0, 0, 1, 1, 1, 1, 1, 0, 1, 1, 1, 0, 0, 0, 0, 1, 0, 1, 0, 1, 0, 0, 1, 0, 0, 1, 1, 1, 0, 0, 0, 1, 0, 0, 1, 0, 1, 0, 1, 1, 1, 1, 0, 0, 1, 0, 1, 1, 1, 1, 0, 0, 1, 1, 1, 1, 1, 0, 0, 1, 1, 0, 0, 0, 1, 0, 0, 0, 0, 0, 1, 1, 0, 1, 1, 1, 0, 0, 1, 0, 0, 1, 0, 0, 0, 1, 0, 0, 0, 0, 1, 0, 0, 0, 1, 0, 0, 1, 1, 0, 0, 1, 1, 0, 1, 1, 1, 0, 1, 0, 1, 1, 1, 0, 1, 0, 1, 0, 0, 1, 1, 1, 1, 1, 1, 0, 1, 0, 1, 0, 1, 1, 0, 0, 1, 0, 1, 1, 0, 0, 0, 1, 0, 1, 0, 0, 1, 1, 0, 0, 0, 0, 1, 0, 0, 0, 1, 1, 0, 1, 0, 1, 1, 1, 1, 1, 1, 1, 0, 1, 1, 0, 0, 1, 1, 0, 1, 0, 1, 0, 1, 1, 1, 0, 1, 1]\n"
     ]
    }
   ],
   "source": [
    "# Verwendbare Werte\n",
    "samples = result['results'][0]['data']['c']['samples']\n",
    "samples_int = [int(s, 16) for s in samples]\n",
    "print(samples_int)"
   ]
  },
  {
   "cell_type": "code",
   "execution_count": 58,
   "id": "7829f29c-2ce1-40b6-abb5-5fa57b85bd48",
   "metadata": {},
   "outputs": [],
   "source": [
    "def csvBits(samples_int): \n",
    "    # Umwandeln in eine Liste von Listen\n",
    "    memory_rows = [[bit] for bit in samples_int]\n",
    "    with open(\"C:/Users/jojot/Documents/Quantum_Computing_Team/Quantum_Computing_Team/Projekt Zufall/Ergebnisse/ergebnisseIBMBits.csv\", \"w\", newline='') as csvfile:\n",
    "        writer = csv.writer(csvfile)\n",
    "        writer.writerows(memory_rows)"
   ]
  },
  {
   "cell_type": "code",
   "execution_count": 59,
   "id": "bd9593dc-bc83-4866-bb6a-1d5166786209",
   "metadata": {},
   "outputs": [],
   "source": [
    "import csv\n",
    "csvBits(samples_int)"
   ]
  },
  {
   "cell_type": "code",
   "execution_count": null,
   "id": "8eb27004-1b16-43b9-886e-1e3adbf5dcfa",
   "metadata": {},
   "outputs": [],
   "source": []
  }
 ],
 "metadata": {
  "kernelspec": {
   "display_name": "Python [conda env:base] *",
   "language": "python",
   "name": "conda-base-py"
  },
  "language_info": {
   "codemirror_mode": {
    "name": "ipython",
    "version": 3
   },
   "file_extension": ".py",
   "mimetype": "text/x-python",
   "name": "python",
   "nbconvert_exporter": "python",
   "pygments_lexer": "ipython3",
   "version": "3.13.5"
  }
 },
 "nbformat": 4,
 "nbformat_minor": 5
}
