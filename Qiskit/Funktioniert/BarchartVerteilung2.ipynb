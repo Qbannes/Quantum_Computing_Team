{
 "cells": [
  {
   "cell_type": "code",
   "execution_count": 5,
   "id": "6a80a94d-7378-4ee0-b8cc-5c1fc631e809",
   "metadata": {},
   "outputs": [
    {
     "name": "stdout",
     "output_type": "stream",
     "text": [
      "Zufallsbits: [1, 1, 1, 1, 0, 0, 0, 0, 0, 0]\n"
     ]
    }
   ],
   "source": [
    "from qiskit import QuantumCircuit\n",
    "from qiskit_ibm_runtime.fake_provider import FakeAlmadenV2\n",
    "\n",
    "# 1-Qubit-Quantum-Zufallsgenerator\n",
    "qc = QuantumCircuit(1, 1)      # Ein Qubit, ein klassisches Bit\n",
    "qc.h(0)                        # Hadamard-Gatter -> Superposition\n",
    "qc.measure(0, 0)               # Messung in Z-Basis\n",
    "\n",
    "# Simulation\n",
    "simulator = FakeAlmadenV2()\n",
    "shots = 10\n",
    "job = simulator.run(qc, shots=shots)  # Nur zehn Schuss für ein Zufallsbit\n",
    "result = job.result()\n",
    "counts = result.get_counts()\n",
    "\n",
    "# Extraktion der Bits\n",
    "random_bits = []\n",
    "for bitstring in counts:\n",
    "        random_bits.extend([int(b) for b in bitstring] * counts[bitstring])\n",
    "\n",
    "print(\"Zufallsbits:\", random_bits)\n"
   ]
  },
  {
   "cell_type": "code",
   "execution_count": 6,
   "id": "520a36df-f100-4ec2-b97f-133941c51a92",
   "metadata": {},
   "outputs": [
    {
     "data": {
      "image/png": "[encoded data removed]",
      "text/plain": [
       "<Figure size 640x480 with 1 Axes>"
      ]
     },
     "metadata": {},
     "output_type": "display_data"
    }
   ],
   "source": [
    "from matplotlib import pyplot as plt\n",
    "counter0 = random_bits.count(0)\n",
    "counter1 = random_bits.count(1)\n",
    "counter = [counter0, counter1]\n",
    "    \n",
    "names = [\"0\", \"1\"]\n",
    "plt.bar(names, counter)\n",
    "plt.show()"
   ]
  },
  {
   "cell_type": "code",
   "execution_count": 31,
   "id": "4e306301-b84c-40fa-bcc0-5b315ef6ebb0",
   "metadata": {},
   "outputs": [],
   "source": [
    "from qiskit import QuantumCircuit\n",
    "from qiskit_ibm_runtime.fake_provider import FakeAlmadenV2\n",
    "simulator = FakeAlmadenV2()\n",
    "shots = 5000\n",
    "\n",
    "# 1-Qubit-Quantum-Zufallsgenerator\n",
    "qc = QuantumCircuit(1, 1)      # Ein Qubit, ein klassisches Bit\n",
    "qc.h(0)                        # Hadamard-Gatter -> Superposition\n",
    "qc.measure(0, 0) \n",
    "\n",
    "gesamt_counter0 = 0\n",
    "gesamt_counter1 = 0\n",
    "\n",
    "for i in range(0, 10000):\n",
    "    job = simulator.run(qc, shots=shots)  # Nur zehn Schuss für ein Zufallsbit\n",
    "    result = job.result()\n",
    "    counts = result.get_counts()\n",
    "    for bitstring, anzahl in counts.items():\n",
    "        for bit in bitstring:\n",
    "            if bit == '0':\n",
    "                gesamt_counter0 += anzahl\n",
    "            elif bit == '1':\n",
    "                gesamt_counter1 += anzahl"
   ]
  },
  {
   "cell_type": "code",
   "execution_count": 32,
   "id": "c945bf9f-4312-426f-83df-578d1e8bb667",
   "metadata": {},
   "outputs": [
    {
     "data": {
      "image/png": "[encoded data removed]",
      "text/plain": [
       "<Figure size 640x480 with 1 Axes>"
      ]
     },
     "metadata": {},
     "output_type": "display_data"
    },
    {
     "name": "stdout",
     "output_type": "stream",
     "text": [
      "[24991681, 25008319]\n"
     ]
    }
   ],
   "source": [
    "from matplotlib import pyplot as plt\n",
    "names = [\"0\", \"1\"]\n",
    "counte = [gesamt_counter0, gesamt_counter1]\n",
    "plt.bar(names, counte)\n",
    "plt.show()\n",
    "print(counte)"
   ]
  },
  {
   "cell_type": "code",
   "execution_count": null,
   "id": "37dcc355-c10b-4bd1-8e3d-ac9e064ec760",
   "metadata": {},
   "outputs": [],
   "source": []
  }
 ],
 "metadata": {
  "kernelspec": {
   "display_name": "Python [conda env:base] *",
   "language": "python",
   "name": "conda-base-py"
  },
  "language_info": {
   "codemirror_mode": {
    "name": "ipython",
    "version": 3
   },
   "file_extension": ".py",
   "mimetype": "text/x-python",
   "name": "python",
   "nbconvert_exporter": "python",
   "pygments_lexer": "ipython3",
   "version": "3.13.5"
  }
 },
 "nbformat": 4,
 "nbformat_minor": 5
}
