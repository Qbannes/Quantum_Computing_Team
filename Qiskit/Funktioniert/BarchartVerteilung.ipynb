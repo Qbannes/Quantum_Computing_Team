{
 "cells": [
  {
   "cell_type": "code",
   "execution_count": 1,
   "id": "6a80a94d-7378-4ee0-b8cc-5c1fc631e809",
   "metadata": {},
   "outputs": [
    {
     "name": "stdout",
     "output_type": "stream",
     "text": [
      "Zufallsbits: [1, 1, 1, 1, 1, 1, 1, 1, 0, 0]\n"
     ]
    }
   ],
   "source": [
    "from qiskit import QuantumCircuit\n",
    "from qiskit_ibm_runtime.fake_provider import FakeAlmadenV2\n",
    "\n",
    "# 1-Qubit-Quantum-Zufallsgenerator\n",
    "qc = QuantumCircuit(1, 1)      # Ein Qubit, ein klassisches Bit\n",
    "qc.h(0)                        # Hadamard-Gatter -> Superposition\n",
    "qc.measure(0, 0)               # Messung in Z-Basis\n",
    "\n",
    "# Simulation\n",
    "simulator = FakeAlmadenV2()\n",
    "shots = 10\n",
    "job = simulator.run(qc, shots=shots)  # Nur zehn Schuss für ein Zufallsbit\n",
    "result = job.result()\n",
    "counts = result.get_counts()\n",
    "\n",
    "# Extraktion der Bits\n",
    "random_bits = []\n",
    "for bitstring in counts:\n",
    "        random_bits.extend([int(b) for b in bitstring] * counts[bitstring])\n",
    "\n",
    "print(\"Zufallsbits:\", random_bits)\n"
   ]
  },
  {
   "cell_type": "code",
   "execution_count": 4,
   "id": "520a36df-f100-4ec2-b97f-133941c51a92",
   "metadata": {},
   "outputs": [
    {
     "data": {
      "image/png": "[encoded data removed]",
      "text/plain": [
       "<Figure size 640x480 with 1 Axes>"
      ]
     },
     "metadata": {},
     "output_type": "display_data"
    }
   ],
   "source": [
    "from matplotlib import pyplot as plt\n",
    "counter0 = random_bits.count(0)\n",
    "counter1 = random_bits.count(1)\n",
    "counter = [counter0, counter1]\n",
    "    \n",
    "names = [\"0\", \"1\"]\n",
    "plt.bar(names, counter)\n",
    "plt.show()"
   ]
  },
  {
   "cell_type": "code",
   "execution_count": 7,
   "id": "4e306301-b84c-40fa-bcc0-5b315ef6ebb0",
   "metadata": {},
   "outputs": [],
   "source": [
    "simulator = FakeAlmadenV2()\n",
    "shots = 5000\n",
    "\n",
    "gesamt_counter0 = 0\n",
    "gesamt_counter1 = 0\n",
    "\n",
    "for i in range(0, 10000):\n",
    "    job = simulator.run(qc, shots=shots)  # Nur zehn Schuss für ein Zufallsbit\n",
    "    result = job.result()\n",
    "    counts = result.get_counts()\n",
    "    for bitstring, anzahl in counts.items():\n",
    "        for bit in bitstring:\n",
    "            if bit == '0':\n",
    "                gesamt_counter0 += anzahl\n",
    "            elif bit == '1':\n",
    "                gesamt_counter1 += anzahl"
   ]
  },
  {
   "cell_type": "code",
   "execution_count": 6,
   "id": "c945bf9f-4312-426f-83df-578d1e8bb667",
   "metadata": {},
   "outputs": [
    {
     "data": {
      "image/png": "[encoded data removed]",
      "text/plain": [
       "<Figure size 640x480 with 1 Axes>"
      ]
     },
     "metadata": {},
     "output_type": "display_data"
    },
    {
     "name": "stdout",
     "output_type": "stream",
     "text": [
      "[250241, 249759]\n"
     ]
    }
   ],
   "source": [
    "names = [\"0\", \"1\"]\n",
    "counte = [gesamt_counter0, gesamt_counter1]\n",
    "plt.bar(names, counte)\n",
    "plt.show()\n",
    "print(counte)"
   ]
  },
  {
   "cell_type": "code",
   "execution_count": 11,
   "id": "37dcc355-c10b-4bd1-8e3d-ac9e064ec760",
   "metadata": {},
   "outputs": [
    {
     "name": "stderr",
     "output_type": "stream",
     "text": [
      "Simuliere Quantenschaltkreise: 100%|██████████| 10000/10000 [00:41<00:00, 240.48it/s]"
     ]
    },
    {
     "name": "stdout",
     "output_type": "stream",
     "text": [
      "\n",
      "Ergebnisse:\n",
      "Anzahl '0'-Bits: 24998435\n",
      "Anzahl '1'-Bits: 25001565\n",
      "Gesamtausführungszeit: 41.59 Sekunden\n",
      "Zeit pro Iteration: 0.0042 Sekunden\n"
     ]
    },
    {
     "name": "stderr",
     "output_type": "stream",
     "text": [
      "\n"
     ]
    },
    {
     "data": {
      "image/png": "[encoded data removed]",
      "text/plain": [
       "<Figure size 640x480 with 1 Axes>"
      ]
     },
     "metadata": {},
     "output_type": "display_data"
    },
    {
     "name": "stdout",
     "output_type": "stream",
     "text": [
      "[24998435, 25001565]\n"
     ]
    }
   ],
   "source": [
    "from qiskit import QuantumCircuit\n",
    "from qiskit_ibm_runtime.fake_provider import FakeAlmadenV2\n",
    "import time\n",
    "from tqdm import tqdm  # Für Fortschrittsbalken (pip install tqdm)\n",
    "\n",
    "# Initialisierung\n",
    "simulator = FakeAlmadenV2()\n",
    "shots = 5000\n",
    "gesamt_counter0 = 0\n",
    "gesamt_counter1 = 0\n",
    "\n",
    "# Stoppuhr starten\n",
    "start_time = time.time()\n",
    "\n",
    "# Hauptschleife mit Fortschrittsbalken\n",
    "for i in tqdm(range(10000), desc=\"Simuliere Quantenschaltkreise\"):\n",
    "    job = simulator.run(qc, shots=shots)\n",
    "    result = job.result()\n",
    "    counts = result.get_counts()\n",
    "    for bitstring, anzahl in counts.items():\n",
    "        # Effizientere Zählung der 0/1-Bits\n",
    "        gesamt_counter0 += bitstring.count('0') * anzahl\n",
    "        gesamt_counter1 += bitstring.count('1') * anzahl\n",
    "\n",
    "# Stoppuhr stoppen\n",
    "end_time = time.time()\n",
    "execution_time = end_time - start_time\n",
    "\n",
    "# Ergebnisse ausgeben\n",
    "print(\"\\nErgebnisse:\")\n",
    "print(f\"Anzahl '0'-Bits: {gesamt_counter0}\")\n",
    "print(f\"Anzahl '1'-Bits: {gesamt_counter1}\")\n",
    "print(f\"Gesamtausführungszeit: {execution_time:.2f} Sekunden\")\n",
    "print(f\"Zeit pro Iteration: {(execution_time / 10000):.4f} Sekunden\")\n",
    "\n",
    "names = [\"0\", \"1\"]\n",
    "counte = [gesamt_counter0, gesamt_counter1]\n",
    "plt.bar(names, counte)\n",
    "plt.show()\n",
    "print(counte)"
   ]
  },
  {
   "cell_type": "code",
   "execution_count": null,
   "id": "5fcc0000-111b-4db9-b7f3-5a0e04fa484f",
   "metadata": {},
   "outputs": [],
   "source": []
  },
  {
   "cell_type": "code",
   "execution_count": null,
   "id": "a4407a20-3343-4624-a6f4-0c5f82a8043c",
   "metadata": {},
   "outputs": [],
   "source": []
  },
  {
   "cell_type": "code",
   "execution_count": null,
   "id": "2ea969be-d918-4d04-94e9-50f686f343ad",
   "metadata": {},
   "outputs": [],
   "source": []
  }
 ],
 "metadata": {
  "kernelspec": {
   "display_name": "Python 3",
   "language": "python",
   "name": "python3"
  },
  "language_info": {
   "codemirror_mode": {
    "name": "ipython",
    "version": 3
   },
   "file_extension": ".py",
   "mimetype": "text/x-python",
   "name": "python",
   "nbconvert_exporter": "python",
   "pygments_lexer": "ipython3",
   "version": "3.13.5"
  }
 },
 "nbformat": 4,
 "nbformat_minor": 5
}
