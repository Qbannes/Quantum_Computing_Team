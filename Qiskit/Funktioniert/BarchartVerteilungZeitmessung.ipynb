{
 "cells": [
  {
   "cell_type": "code",
   "execution_count": null,
   "id": "79cfdac7",
   "metadata": {},
   "outputs": [],
   "source": [
    "from qiskit import QuantumCircuit\n",
    "from qiskit_ibm_runtime.fake_provider import FakeAlmadenV2\n",
    "import time\n",
    "from tqdm import tqdm  # Für Fortschrittsbalken (pip install tqdm)\n",
    "\n",
    "# Initialisierung\n",
    "simulator = FakeAlmadenV2()\n",
    "shots = 5000\n",
    "gesamt_counter0 = 0\n",
    "gesamt_counter1 = 0\n",
    "\n",
    "# Stoppuhr starten\n",
    "start_time = time.time()\n",
    "\n",
    "# Hauptschleife mit Fortschrittsbalken\n",
    "for i in tqdm(range(10000), desc=\"Simuliere Quantenschaltkreise\"):\n",
    "    job = simulator.run(qc, shots=shots)\n",
    "    result = job.result()\n",
    "    counts = result.get_counts()\n",
    "    for bitstring, anzahl in counts.items():\n",
    "        # Effizientere Zählung der 0/1-Bits\n",
    "        gesamt_counter0 += bitstring.count('0') * anzahl\n",
    "        gesamt_counter1 += bitstring.count('1') * anzahl\n",
    "\n",
    "# Stoppuhr stoppen\n",
    "end_time = time.time()\n",
    "execution_time = end_time - start_time\n",
    "\n",
    "# Ergebnisse ausgeben\n",
    "print(\"\\nErgebnisse:\")\n",
    "print(f\"Anzahl '0'-Bits: {gesamt_counter0}\")\n",
    "print(f\"Anzahl '1'-Bits: {gesamt_counter1}\")\n",
    "print(f\"Gesamtausführungszeit: {execution_time:.2f} Sekunden\")\n",
    "print(f\"Zeit pro Iteration: {(execution_time / 10000):.4f} Sekunden\")\n",
    "\n",
    "names = [\"0\", \"1\"]\n",
    "counte = [gesamt_counter0, gesamt_counter1]\n",
    "plt.bar(names, counte)\n",
    "plt.show()\n",
    "print(counte)"
   ]
  }
 ],
 "metadata": {
  "language_info": {
   "name": "python"
  }
 },
 "nbformat": 4,
 "nbformat_minor": 5
}
