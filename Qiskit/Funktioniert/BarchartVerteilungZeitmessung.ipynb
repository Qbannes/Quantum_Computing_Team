{
 "cells": [
  {
   "cell_type": "code",
   "execution_count": null,
   "id": "79cfdac7",
   "metadata": {},
   "outputs": [
    {
     "name": "stderr",
     "output_type": "stream",
     "text": [
      "Simuliere Quantenschaltkreise: 100%|██████████| 10000/10000 [00:56<00:00, 178.42it/s]"
     ]
    },
    {
     "name": "stdout",
     "output_type": "stream",
     "text": [
      "\n",
      "Ergebnisse:\n",
      "Anzahl '0'-Bits: 25002343\n",
      "Anzahl '1'-Bits: 24997657\n",
      "Gesamtausführungszeit: 56.05 Sekunden\n",
      "Zeit pro Iteration: 0.0056 Sekunden\n"
     ]
    },
    {
     "name": "stderr",
     "output_type": "stream",
     "text": [
      "\n"
     ]
    },
    {
     "ename": "NameError",
     "evalue": "name 'plt' is not defined",
     "output_type": "error",
     "traceback": [
      "\u001b[1;31m---------------------------------------------------------------------------\u001b[0m",
      "\u001b[1;31mNameError\u001b[0m                                 Traceback (most recent call last)",
      "Cell \u001b[1;32mIn[2], line 43\u001b[0m\n\u001b[0;32m     41\u001b[0m names \u001b[38;5;241m=\u001b[39m [\u001b[38;5;124m\"\u001b[39m\u001b[38;5;124m0\u001b[39m\u001b[38;5;124m\"\u001b[39m, \u001b[38;5;124m\"\u001b[39m\u001b[38;5;124m1\u001b[39m\u001b[38;5;124m\"\u001b[39m]\n\u001b[0;32m     42\u001b[0m counte \u001b[38;5;241m=\u001b[39m [gesamt_counter0, gesamt_counter1]\n\u001b[1;32m---> 43\u001b[0m plt\u001b[38;5;241m.\u001b[39mbar(names, counte)\n\u001b[0;32m     44\u001b[0m plt\u001b[38;5;241m.\u001b[39mshow()\n\u001b[0;32m     45\u001b[0m \u001b[38;5;28mprint\u001b[39m(counte)\n",
      "\u001b[1;31mNameError\u001b[0m: name 'plt' is not defined"
     ]
    }
   ],
   "source": [
    "from qiskit import QuantumCircuit\n",
    "from qiskit_ibm_runtime.fake_provider import FakeAlmadenV2\n",
    "import time\n",
    "from tqdm import tqdm  # Für Fortschrittsbalken (pip install tqdm)\n",
    "from matplotlib import pyplot as plt\n",
    "\n",
    "# Initialisierung\n",
    "simulator = FakeAlmadenV2()\n",
    "shots = 5000\n",
    "gesamt_counter0 = 0\n",
    "gesamt_counter1 = 0\n",
    "\n",
    "# 1-Qubit-Quantum-Zufallsgenerator\n",
    "qc = QuantumCircuit(1, 1)      # Ein Qubit, ein klassisches Bit\n",
    "qc.h(0)                        # Hadamard-Gatter -> Superposition\n",
    "qc.measure(0, 0) \n",
    "\n",
    "# Stoppuhr starten\n",
    "start_time = time.time()\n",
    "\n",
    "# Hauptschleife mit Fortschrittsbalken\n",
    "for i in tqdm(range(10000), desc=\"Simuliere Quantenschaltkreise\"):\n",
    "    job = simulator.run(qc, shots=shots)\n",
    "    result = job.result()\n",
    "    counts = result.get_counts()\n",
    "    for bitstring, anzahl in counts.items():\n",
    "        # Effizientere Zählung der 0/1-Bits\n",
    "        gesamt_counter0 += bitstring.count('0') * anzahl\n",
    "        gesamt_counter1 += bitstring.count('1') * anzahl\n",
    "\n",
    "# Stoppuhr stoppen\n",
    "end_time = time.time()\n",
    "execution_time = end_time - start_time\n",
    "\n",
    "# Ergebnisse ausgeben\n",
    "print(\"\\nErgebnisse:\")\n",
    "print(f\"Anzahl '0'-Bits: {gesamt_counter0}\")\n",
    "print(f\"Anzahl '1'-Bits: {gesamt_counter1}\")\n",
    "print(f\"Gesamtausführungszeit: {execution_time:.2f} Sekunden\")\n",
    "print(f\"Zeit pro Iteration: {(execution_time / 10000):.4f} Sekunden\")\n",
    "\n",
    "names = [\"0\", \"1\"]\n",
    "counte = [gesamt_counter0, gesamt_counter1]\n",
    "plt.bar(names, counte)\n",
    "plt.show()\n",
    "print(counte)"
   ]
  }
 ],
 "metadata": {
  "kernelspec": {
   "display_name": "base",
   "language": "python",
   "name": "python3"
  },
  "language_info": {
   "codemirror_mode": {
    "name": "ipython",
    "version": 3
   },
   "file_extension": ".py",
   "mimetype": "text/x-python",
   "name": "python",
   "nbconvert_exporter": "python",
   "pygments_lexer": "ipython3",
   "version": "3.13.5"
  }
 },
 "nbformat": 4,
 "nbformat_minor": 5
}
