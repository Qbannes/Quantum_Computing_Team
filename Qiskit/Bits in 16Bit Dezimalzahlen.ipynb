{
 "cells": [
  {
   "cell_type": "code",
   "execution_count": 3,
   "id": "054df3c6-30c7-4342-8451-86b7545a0f9a",
   "metadata": {},
   "outputs": [
    {
     "name": "stdout",
     "output_type": "stream",
     "text": [
      "Verwende Blockgröße n = 16 → max Dezimalzahl: 65535\n"
     ]
    }
   ],
   "source": [
    "\n",
    "\n",
    "\n",
    "import csv\n",
    "\n",
    "def finde_max_n_mit_grenze(bit_count, max_n):\n",
    "    for n in range(max_n, 0, -1):\n",
    "        if bit_count % n == 0:\n",
    "            return n\n",
    "    return 1\n",
    "\n",
    "# Parameter\n",
    "input_datei = \"C:/Users/jojot/Documents/Quantum_Computing_Team/Quantum_Computing_Team/Projekt Zufall/Ergebnisse/ergebnisseIBMBits.csv\"\n",
    "output_datei = \"C:/Users/jojot/Documents/Quantum_Computing_Team/Quantum_Computing_Team/Projekt Zufall/Ergebnisse/ausgabe.csv\"\n",
    "n_grenze = 19\n",
    "\n",
    "# Bits einlesen: eine Zahl pro Zeile\n",
    "with open(input_datei, \"r\") as f:\n",
    "    bits_liste = [zeile.strip() for zeile in f if zeile.strip() in {'0', '1'}]\n",
    "\n",
    "bit_count = len(bits_liste)\n",
    "assert bit_count == 100_000, f\"Erwartet 100000 Bits, gefunden: {bit_count}\"\n",
    "\n",
    "bits = ''.join(bits_liste)\n",
    "\n",
    "# n bestimmen\n",
    "n = finde_max_n_mit_grenze(bit_count, n_grenze)\n",
    "print(f\"Verwende Blockgröße n = {n} → max Dezimalzahl: {2**n - 1}\")\n",
    "\n",
    "# Blöcke erstellen\n",
    "zahlen = []\n",
    "for i in range(0, bit_count, n):\n",
    "    block = bits[i:i+n]\n",
    "    dezimal = int(block, 2)\n",
    "    zahlen.append(dezimal)\n",
    "\n",
    "# Ausgabe in 5er-Reihen\n",
    "with open(output_datei, \"w\", newline=\"\") as f:\n",
    "    writer = csv.writer(f)\n",
    "    for i in range(0, len(zahlen), 5):\n",
    "        writer.writerow(zahlen[i:i+5])\n"
   ]
  },
  {
   "cell_type": "code",
   "execution_count": null,
   "id": "90170cca-448a-4ece-9a52-0fbaf5ad4498",
   "metadata": {},
   "outputs": [],
   "source": []
  }
 ],
 "metadata": {
  "kernelspec": {
   "display_name": "Python [conda env:base] *",
   "language": "python",
   "name": "conda-base-py"
  },
  "language_info": {
   "codemirror_mode": {
    "name": "ipython",
    "version": 3
   },
   "file_extension": ".py",
   "mimetype": "text/x-python",
   "name": "python",
   "nbconvert_exporter": "python",
   "pygments_lexer": "ipython3",
   "version": "3.13.5"
  }
 },
 "nbformat": 4,
 "nbformat_minor": 5
}
