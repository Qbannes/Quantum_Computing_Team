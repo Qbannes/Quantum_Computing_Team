{
 "cells": [
  {
   "cell_type": "code",
   "execution_count": 2,
   "id": "7209454a-f6d7-4328-8352-26cc832b9756",
   "metadata": {},
   "outputs": [
    {
     "ename": "ImportError",
     "evalue": "Qiskit is installed in an invalid environment that has both Qiskit >=1.0 and an earlier version. You should create a new virtual environment, and ensure that you do not mix dependencies between Qiskit <1.0 and >=1.0. Any packages that depend on 'qiskit-terra' are not compatible with Qiskit 1.0 and will need to be updated. Qiskit unfortunately cannot enforce this requirement during environment resolution. See https://qisk.it/packaging-1-0 for more detail.",
     "output_type": "error",
     "traceback": [
      "\u001b[31m---------------------------------------------------------------------------\u001b[39m",
      "\u001b[31mImportError\u001b[39m                               Traceback (most recent call last)",
      "\u001b[36mCell\u001b[39m\u001b[36m \u001b[39m\u001b[32mIn[2]\u001b[39m\u001b[32m, line 1\u001b[39m\n\u001b[32m----> \u001b[39m\u001b[32m1\u001b[39m \u001b[38;5;28;01mfrom\u001b[39;00m\u001b[38;5;250m \u001b[39m\u001b[34;01mqiskit\u001b[39;00m\u001b[38;5;250m \u001b[39m\u001b[38;5;28;01mimport\u001b[39;00m QuantumCircuit\n\u001b[32m      2\u001b[39m \u001b[38;5;28;01mfrom\u001b[39;00m\u001b[38;5;250m \u001b[39m\u001b[34;01mqiskit_aer\u001b[39;00m\u001b[38;5;250m \u001b[39m\u001b[38;5;28;01mimport\u001b[39;00m AerSimulator  \u001b[38;5;66;03m# Neu: AerSimulator statt Aer\u001b[39;00m\n\u001b[32m      3\u001b[39m \u001b[38;5;28;01mfrom\u001b[39;00m\u001b[38;5;250m \u001b[39m\u001b[34;01mqiskit\u001b[39;00m\u001b[34;01m.\u001b[39;00m\u001b[34;01mvisualization\u001b[39;00m\u001b[38;5;250m \u001b[39m\u001b[38;5;28;01mimport\u001b[39;00m plot_histogram\n",
      "\u001b[36mFile \u001b[39m\u001b[32mc:\\Users\\juanc\\AppData\\Local\\Programs\\Python\\Python313\\Lib\\site-packages\\qiskit\\__init__.py:36\u001b[39m\n\u001b[32m     34\u001b[39m     _suppress_error = os.environ.get(\u001b[33m\"\u001b[39m\u001b[33mQISKIT_SUPPRESS_1_0_IMPORT_ERROR\u001b[39m\u001b[33m\"\u001b[39m, \u001b[38;5;28;01mFalse\u001b[39;00m) == \u001b[33m\"\u001b[39m\u001b[33m1\u001b[39m\u001b[33m\"\u001b[39m\n\u001b[32m     35\u001b[39m     \u001b[38;5;28;01mif\u001b[39;00m \u001b[38;5;129;01mnot\u001b[39;00m _suppress_error \u001b[38;5;129;01mand\u001b[39;00m _has_tools:\n\u001b[32m---> \u001b[39m\u001b[32m36\u001b[39m         \u001b[38;5;28;01mraise\u001b[39;00m \u001b[38;5;167;01mImportError\u001b[39;00m(\n\u001b[32m     37\u001b[39m             \u001b[33m\"\u001b[39m\u001b[33mQiskit is installed in an invalid environment that has both Qiskit >=1.0\u001b[39m\u001b[33m\"\u001b[39m\n\u001b[32m     38\u001b[39m             \u001b[33m\"\u001b[39m\u001b[33m and an earlier version.\u001b[39m\u001b[33m\"\u001b[39m\n\u001b[32m     39\u001b[39m             \u001b[33m\"\u001b[39m\u001b[33m You should create a new virtual environment, and ensure that you do not mix\u001b[39m\u001b[33m\"\u001b[39m\n\u001b[32m     40\u001b[39m             \u001b[33m\"\u001b[39m\u001b[33m dependencies between Qiskit <1.0 and >=1.0.\u001b[39m\u001b[33m\"\u001b[39m\n\u001b[32m     41\u001b[39m             \u001b[33m\"\u001b[39m\u001b[33m Any packages that depend on \u001b[39m\u001b[33m'\u001b[39m\u001b[33mqiskit-terra\u001b[39m\u001b[33m'\u001b[39m\u001b[33m are not compatible with Qiskit 1.0 and\u001b[39m\u001b[33m\"\u001b[39m\n\u001b[32m     42\u001b[39m             \u001b[33m\"\u001b[39m\u001b[33m will need to be updated.\u001b[39m\u001b[33m\"\u001b[39m\n\u001b[32m     43\u001b[39m             \u001b[33m\"\u001b[39m\u001b[33m Qiskit unfortunately cannot enforce this requirement during environment resolution.\u001b[39m\u001b[33m\"\u001b[39m\n\u001b[32m     44\u001b[39m             \u001b[33m\"\u001b[39m\u001b[33m See https://qisk.it/packaging-1-0 for more detail.\u001b[39m\u001b[33m\"\u001b[39m\n\u001b[32m     45\u001b[39m         )\n\u001b[32m     47\u001b[39m \u001b[38;5;28;01mif\u001b[39;00m sys.version_info < (\u001b[32m3\u001b[39m, \u001b[32m10\u001b[39m):\n\u001b[32m     48\u001b[39m     warnings.warn(\n\u001b[32m     49\u001b[39m         \u001b[33m\"\u001b[39m\u001b[33mUsing Qiskit with Python 3.9 is deprecated as of the 2.1.0 release. \u001b[39m\u001b[33m\"\u001b[39m\n\u001b[32m     50\u001b[39m         \u001b[33m\"\u001b[39m\u001b[33mSupport for running Qiskit with Python 3.9 will be removed in the \u001b[39m\u001b[33m\"\u001b[39m\n\u001b[32m     51\u001b[39m         \u001b[33m\"\u001b[39m\u001b[33m2.3.0 release, which coincides with when Python 3.9 goes end of life.\u001b[39m\u001b[33m\"\u001b[39m,\n\u001b[32m     52\u001b[39m         \u001b[38;5;167;01mDeprecationWarning\u001b[39;00m,\n\u001b[32m     53\u001b[39m     )\n",
      "\u001b[31mImportError\u001b[39m: Qiskit is installed in an invalid environment that has both Qiskit >=1.0 and an earlier version. You should create a new virtual environment, and ensure that you do not mix dependencies between Qiskit <1.0 and >=1.0. Any packages that depend on 'qiskit-terra' are not compatible with Qiskit 1.0 and will need to be updated. Qiskit unfortunately cannot enforce this requirement during environment resolution. See https://qisk.it/packaging-1-0 for more detail."
     ]
    }
   ],
   "source": [
    "from qiskit import QuantumCircuit\n",
    "from qiskit_aer import AerSimulator  # Neu: AerSimulator statt Aer\n",
    "from qiskit.visualization import plot_histogram\n",
    "from qiskit.circuit.library import QFT\n",
    "import numpy as np"
   ]
  },
  {
   "cell_type": "code",
   "execution_count": 1,
   "id": "1d9c8a5d-eb46-4ddf-ab16-ff06df070c4d",
   "metadata": {},
   "outputs": [
    {
     "ename": "NameError",
     "evalue": "name 'QuantumCircuit' is not defined",
     "output_type": "error",
     "traceback": [
      "\u001b[31m---------------------------------------------------------------------------\u001b[39m",
      "\u001b[31mNameError\u001b[39m                                 Traceback (most recent call last)",
      "\u001b[36mCell\u001b[39m\u001b[36m \u001b[39m\u001b[32mIn[1]\u001b[39m\u001b[32m, line 4\u001b[39m\n\u001b[32m      1\u001b[39m \u001b[38;5;66;03m# Deutsch-Jozsa-Algorithmus\u001b[39;00m\n\u001b[32m      2\u001b[39m \n\u001b[32m      3\u001b[39m \u001b[38;5;66;03m# Schaltkreis für 1-Qubit-Deutsch-Jozsa\u001b[39;00m\n\u001b[32m----> \u001b[39m\u001b[32m4\u001b[39m qc = \u001b[43mQuantumCircuit\u001b[49m(\u001b[32m2\u001b[39m, \u001b[32m1\u001b[39m)\n\u001b[32m      6\u001b[39m \u001b[38;5;66;03m# Superposition + Oracle (balanciert: CNOT)\u001b[39;00m\n\u001b[32m      7\u001b[39m qc.h(\u001b[32m0\u001b[39m)\n",
      "\u001b[31mNameError\u001b[39m: name 'QuantumCircuit' is not defined"
     ]
    }
   ],
   "source": [
    "# Deutsch-Jozsa-Algorithmus\n",
    "\n",
    "# Schaltkreis für 1-Qubit-Deutsch-Jozsa\n",
    "qc = QuantumCircuit(2, 1)\n",
    "\n",
    "# Superposition + Oracle (balanciert: CNOT)\n",
    "qc.h(0)\n",
    "qc.x(1)\n",
    "qc.h(1)\n",
    "qc.cx(0, 1)  # Balanciertes Oracle\n",
    "qc.h(0)\n",
    "qc.measure(0, 0)\n",
    "\n",
    "# Simulation mit AerSimulator\n",
    "simulator = AerSimulator()\n",
    "job = simulator.run(qc)\n",
    "result = job.result()\n",
    "counts = result.get_counts()\n",
    "\n",
    "# Visualisierung\n",
    "print(qc.draw(output='text'))  # ASCII-Schaltkreis\n",
    "plot_histogram(counts)"
   ]
  },
  {
   "cell_type": "code",
   "execution_count": 41,
   "id": "4775b0a7-ec40-49a4-a596-178939bc4a5e",
   "metadata": {},
   "outputs": [
    {
     "data": {
      "image/png": "[encoded data removed]",
      "text/plain": [
       "<Figure size 1500x300 with 1 Axes>"
      ]
     },
     "execution_count": 41,
     "metadata": {},
     "output_type": "execute_result"
    }
   ],
   "source": [
    "# Grover Algorithmus\n",
    "\n",
    "# Schaltkreis für 2 Qubits (sucht |11>)\n",
    "qc = QuantumCircuit(2)\n",
    "\n",
    "# Superposition\n",
    "qc.h([0, 1])\n",
    "\n",
    "# Oracle (markiert |11>)\n",
    "qc.cz(0, 1)  # Neu: Direktes CZ-Gatter statt zusammengesetztem Oracle\n",
    "\n",
    "# Diffusor\n",
    "qc.h([0, 1])\n",
    "qc.x([0, 1])\n",
    "qc.h(1)\n",
    "qc.cx(0, 1)\n",
    "qc.h(1)\n",
    "qc.x([0, 1])\n",
    "qc.h([0, 1])\n",
    "\n",
    "# Messung\n",
    "qc.measure_all()\n",
    "\n",
    "# Simulation\n",
    "simulator = AerSimulator()\n",
    "result = simulator.run(qc).result()\n",
    "plot_histogram(result.get_counts())  # Dominantes |11> erwartet"
   ]
  },
  {
   "cell_type": "code",
   "execution_count": 46,
   "id": "0fe8884f-0b4f-4c63-9058-d29f88543f8c",
   "metadata": {},
   "outputs": [
    {
     "name": "stderr",
     "output_type": "stream",
     "text": [
      "C:\\Users\\juanc\\AppData\\Local\\Temp\\ipykernel_9580\\1112850365.py:18: DeprecationWarning: The class ``qiskit.circuit.library.basis_change.qft.QFT`` is deprecated as of Qiskit 2.1. It will be removed in Qiskit 3.0. ('Use qiskit.circuit.library.QFTGate or qiskit.synthesis.qft.synth_qft_full instead, for access to all previous arguments.',)\n",
      "  qc.append(QFT(4, inverse=True).to_instruction(), qc.qubits)\n"
     ]
    },
    {
     "data": {
      "image/png": "[encoded data removed]",
      "text/plain": [
       "<Figure size 1500x300 with 1 Axes>"
      ]
     },
     "execution_count": 46,
     "metadata": {},
     "output_type": "execute_result"
    }
   ],
   "source": [
    "from qiskit import QuantumCircuit, transpile\n",
    "from qiskit.circuit.library import QFT\n",
    "from qiskit_aer import AerSimulator\n",
    "from qiskit.visualization import plot_histogram\n",
    "\n",
    "# Schaltkreis für N=15, a=7 (4 Qubits)\n",
    "qc = QuantumCircuit(4, 4)\n",
    "\n",
    "# Superposition\n",
    "qc.h(range(4))\n",
    "\n",
    "# Modulare Exponentiation (vereinfacht)\n",
    "qc.cx(0, 3)\n",
    "qc.cx(1, 3)\n",
    "qc.cx(2, 3)\n",
    "\n",
    "# Inverse QFT (transpilieren!)\n",
    "qc.append(QFT(4, inverse=True).to_instruction(), qc.qubits)\n",
    "\n",
    "# Messung\n",
    "qc.measure(range(4), range(4))\n",
    "\n",
    "# Transpilieren für AerSimulator\n",
    "qc = transpile(qc, AerSimulator())\n",
    "\n",
    "# Simulation\n",
    "simulator = AerSimulator()\n",
    "result = simulator.run(qc).result()\n",
    "plot_histogram(result.get_counts())"
   ]
  },
  {
   "cell_type": "code",
   "execution_count": null,
   "id": "0e444f08-45bf-49b6-82e7-a1148023ee7b",
   "metadata": {},
   "outputs": [],
   "source": []
  }
 ],
 "metadata": {
  "kernelspec": {
   "display_name": "Python 3",
   "language": "python",
   "name": "python3"
  },
  "language_info": {
   "codemirror_mode": {
    "name": "ipython",
    "version": 3
   },
   "file_extension": ".py",
   "mimetype": "text/x-python",
   "name": "python",
   "nbconvert_exporter": "python",
   "pygments_lexer": "ipython3",
   "version": "3.13.5"
  }
 },
 "nbformat": 4,
 "nbformat_minor": 5
}
