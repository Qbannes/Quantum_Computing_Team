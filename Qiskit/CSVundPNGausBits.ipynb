{
 "cells": [
  {
   "cell_type": "code",
   "execution_count": 4,
   "id": "f102ab3f-371b-4d2c-9140-ac6d62b56754",
   "metadata": {},
   "outputs": [
    {
     "name": "stdout",
     "output_type": "stream",
     "text": [
      "Erzeuge Datei 1/10 ...\n",
      "Erzeuge Datei 2/10 ...\n",
      "Erzeuge Datei 3/10 ...\n",
      "Erzeuge Datei 4/10 ...\n",
      "Erzeuge Datei 5/10 ...\n",
      "Erzeuge Datei 6/10 ...\n",
      "Erzeuge Datei 7/10 ...\n",
      "Erzeuge Datei 8/10 ...\n",
      "Erzeuge Datei 9/10 ...\n",
      "Erzeuge Datei 10/10 ...\n",
      "10 Bilder erfolgreich erzeugt und gespeichert in: bilder/\n"
     ]
    }
   ],
   "source": [
    "import csv\n",
    "import random\n",
    "from PIL import Image\n",
    "import os\n",
    "\n",
    "def generate_binary_csv(rows, cols, output_path):\n",
    "    with open(output_path, 'w', newline='') as csvfile:\n",
    "        writer = csv.writer(csvfile)\n",
    "        for _ in range(rows):\n",
    "            row = [random.randint(0, 1) for _ in range(cols)]\n",
    "            writer.writerow(row)\n",
    "\n",
    "def csv_to_png(csv_path, output_path, pixel_size=10):\n",
    "    with open(csv_path, newline='') as csvfile:\n",
    "        reader = csv.reader(csvfile)\n",
    "        data = [[int(cell) for cell in row] for row in reader]\n",
    "\n",
    "    height = len(data)\n",
    "    width = len(data[0]) if height > 0 else 0\n",
    "\n",
    "    image = Image.new('RGB', (width * pixel_size, height * pixel_size), \"white\")\n",
    "    pixels = image.load()\n",
    "\n",
    "    for y in range(height):\n",
    "        for x in range(width):\n",
    "            color = (0, 0, 0) if data[y][x] == 1 else (255, 255, 255)\n",
    "            for dy in range(pixel_size):\n",
    "                for dx in range(pixel_size):\n",
    "                    pixels[x * pixel_size + dx, y * pixel_size + dy] = color\n",
    "\n",
    "    image.save(output_path)\n",
    "\n",
    "def generate_multiple_images(num_images=10, rows=100, cols=100, pixel_size=10, output_dir=\"output\"):\n",
    "    os.makedirs(output_dir, exist_ok=True)\n",
    "\n",
    "    for i in range(num_images):\n",
    "        csv_name = f\"{output_dir}/matrix_{i+1}.csv\"\n",
    "        png_name = f\"{output_dir}/image_{i+1}.png\"\n",
    "\n",
    "        print(f\"Erzeuge Datei {i+1}/{num_images} ...\")\n",
    "        generate_binary_csv(rows, cols, csv_name)\n",
    "        csv_to_png(csv_name, png_name, pixel_size)\n",
    "\n",
    "    print(f\"{num_images} Bilder erfolgreich erzeugt und gespeichert in: {output_dir}/\")\n",
    "\n",
    "# Ausführen\n",
    "generate_multiple_images(\n",
    "    num_images=10,\n",
    "    rows=100,\n",
    "    cols=100,\n",
    "    pixel_size=10,\n",
    "    output_dir=\"bilder\"\n",
    ")\n"
   ]
  },
  {
   "cell_type": "code",
   "execution_count": null,
   "id": "60ab5fc3-9ee9-4b0f-b28b-2e5d1aeda7d7",
   "metadata": {},
   "outputs": [],
   "source": []
  }
 ],
 "metadata": {
  "kernelspec": {
   "display_name": "Python [conda env:base] *",
   "language": "python",
   "name": "conda-base-py"
  },
  "language_info": {
   "codemirror_mode": {
    "name": "ipython",
    "version": 3
   },
   "file_extension": ".py",
   "mimetype": "text/x-python",
   "name": "python",
   "nbconvert_exporter": "python",
   "pygments_lexer": "ipython3",
   "version": "3.13.5"
  }
 },
 "nbformat": 4,
 "nbformat_minor": 5
}
