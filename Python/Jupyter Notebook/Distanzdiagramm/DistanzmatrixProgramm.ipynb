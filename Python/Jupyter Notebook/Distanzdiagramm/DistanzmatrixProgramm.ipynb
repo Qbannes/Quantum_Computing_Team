{
 "cells": [
  {
   "cell_type": "code",
   "execution_count": 37,
   "id": "7f42f4be-59f7-42e7-a09f-b990f35f5a1d",
   "metadata": {},
   "outputs": [
    {
     "name": "stdout",
     "output_type": "stream",
     "text": [
      "                         Land               Hauptstadt          Koordinaten  \\\n",
      "0  Europäische Staaten (44+6)  Europäische Hauptstädte  Koordinaten (B / L)   \n",
      "1                    Albanien          Tirane / Tirana  +41.3317 / +19.8172   \n",
      "2                     Andorra         Andorra la Vella   +42.5075 / +1.5218   \n",
      "3      Belarus / Weißrussland                    Minsk  +53.9678 / +27.5766   \n",
      "4                     Belgien      Bruxelles / Brüssel   +50.8371 / +4.3676   \n",
      "5         Bosnien-Herzegowina                 Sarajevo  +43.8608 / +18.4214   \n",
      "6                   Bulgarien           Sofiya / Sofia  +42.7105 / +23.3238   \n",
      "7                    Dänemark   Kobenhavn / Kopenhagen  +55.6763 / +12.5681   \n",
      "8                 Deutschland                   Berlin  +52.5235 / +13.4115   \n",
      "9                     Estland                  Tallinn  +59.4389 / +24.7545   \n",
      "\n",
      "  Höhe (müM)  \n",
      "0        müM  \n",
      "1        104  \n",
      "2       1409  \n",
      "3        198  \n",
      "4         76  \n",
      "5        577  \n",
      "6        591  \n",
      "7          0  \n",
      "8         34  \n",
      "9         37  \n"
     ]
    }
   ],
   "source": [
    "from bs4 import BeautifulSoup\n",
    "import pandas as pd\n",
    "\n",
    "# Datei einlesen\n",
    "with open(r'C:\\Users\\jojot\\Documents\\Quantum_Computing_Team\\Quantum_Computing_Team\\Python\\Jupyter Notebook\\hauptstaedte.html', encoding='utf-8') as f:\n",
    "    html = f.read()\n",
    "\n",
    "soup = BeautifulSoup(html, 'html.parser')\n",
    "\n",
    "# Alle relevanten divs extrahieren\n",
    "divs = soup.find_all('div')\n",
    "\n",
    "# Datenstruktur vorbereiten\n",
    "rows = []\n",
    "row = []\n",
    "\n",
    "# Durch alle <div>-Elemente iterieren\n",
    "for div in divs:\n",
    "    class_name = div.get('class', [''])[0]\n",
    "    if class_name.startswith('x1'):\n",
    "        if row:  # sobald ein neues Land beginnt, alte Zeile speichern\n",
    "            rows.append(row)\n",
    "            row = []\n",
    "        row.append(div.get_text(strip=True))\n",
    "    elif class_name.startswith('x2') or class_name.startswith('x3') or class_name.startswith('x4'):\n",
    "        row.append(div.get_text(strip=True))\n",
    "\n",
    "if row:  # letzte Zeile anhängen\n",
    "    rows.append(row)\n",
    "\n",
    "# DataFrame erstellen\n",
    "df = pd.DataFrame(rows, columns=['Land', 'Hauptstadt', 'Koordinaten', 'Höhe (müM)'])\n",
    "print(df.head(10))\n"
   ]
  },
  {
   "cell_type": "code",
   "execution_count": 60,
   "id": "c130a284-b2c9-4ad9-bc3b-29a245b5c639",
   "metadata": {},
   "outputs": [
    {
     "name": "stdout",
     "output_type": "stream",
     "text": [
      "['Tirane / Tirana', 'Andorra la Vella', 'Minsk', 'Bruxelles / Brüssel', 'Sarajevo', 'Sofiya / Sofia', 'Kobenhavn / Kopenhagen', 'Berlin', 'Tallinn', 'Helsinki', 'Paris', 'Athinai / Athen', 'London', 'Dublin', 'Reykjavik', 'Roma / Rom', 'Prishtine / Pristina', 'Zagreb', 'Riga', 'Vaduz', 'Vilnius', 'Luxembourg / Luxemburg', 'Valletta', 'Chisinau', 'Monaco', 'Podgorica', 'Amsterdam', 'Skopje', 'Oslo', 'Vienna / Wien', 'Warszawa / Warschau', 'Lisboa / Lissabon', 'Bucuresti / Bukarest', 'Moskva / Moskau', 'San Marino', 'Stockholm', 'Bern', 'Beograd / Belgrad', 'Bratislava', 'Ljubljana', 'Madrid', 'Praha / Prag', 'Kyiv / Kiew', 'Budapest', 'Torshavn (auf Streymoy)', 'Gibraltar', 'Saint Peter Port', 'Douglas', 'Saint Helier', 'Longyearbyen', 'Kabol / Kabul', 'Yerevan / Eriwan', 'Baki / Baku', 'Al Manamah / Manama', 'Dhaka', 'Thimphu', 'Bandar Seri Begawan', 'Beijing / Peking', \"T'bilisi / Tiflis\", 'New Delhi / Neu-Delhi', 'Jakarta (auf Java)', 'Baghdad / Bagdad', 'Tehran / Teheran', 'Yerushalayim / Jerusalem', 'Tokyo / Tokio', \"San'a' / Sanaa\", 'Amman', 'Phnum Penh / Phnom Penh', 'Astana', 'Ad Dawhah / Doha', 'Bischkek', 'Al Kuwayt / Kuwait', 'Viangchan / Vientiane', 'Beyrouth / Beirut', 'Kuala Lumpur', 'Maale / Male (auf Male)', 'Ulaanbaatar / Ulan Bator', 'Naypyidaw', 'Kathmandu', \"P'yongyang / Pjöngjang\", 'Masqat / Maskat', 'Islamabad', 'Manila', 'Ar Riyad / Riad', 'Singapore / Singapur', 'Colombo', 'Dimashq / Damaskus', 'Seoul', 'Dushanbe', 'Krung Thep / Bangkok', 'Dili', 'Ankara', 'Asgabat / Ashgabat', 'Toshkent / Tashkent', 'Abu Zaby / Abu Dhabi', 'Ha Noi / Hanoi', 'Nicosia / Nikosia', \"T'ai-pei / Taipeh\", \"Saint John's (auf Antigua)\", 'Buenos Aires', 'Nassau (auf New Providence)', 'Bridgetown', 'Belmopan', 'Sucre', 'Brasilia', 'Santiago', 'San Jose', 'Roseau', 'Santo Domingo', 'Quito', 'San Salvador', \"Saint George's\", 'Guatemala', 'Georgetown', 'Port-au-Prince', 'Tegucigalpa', 'Kingston', 'Ottawa', 'Bogota', 'La Habana / Havanna', 'Ciudad de Mexico', 'Managua', 'Panama', 'Asuncion', 'Lima', 'Basseterre (auf St. Kitts)', 'Castries', 'Kingstown (auf St. Vincent)', 'Paramaribo', 'Port-of-Spain (auf Trinidad)', 'Montevideo', 'Caracas', 'Washington', 'Charlotte Amalie (auf St. Thomas)', 'The Valley', 'Oranjestad', 'Hamilton (auf Main Island)', 'Road Town (auf Tortola)', 'George Town (auf Grand Cayman)', 'Stanley (auf Ostfalkland)', 'Cayenne', 'Nuuk', 'Basse-Terre', 'Fort-de-France', 'Plymouth', 'Willemstad (auf Curacao)', 'San Juan', 'Saint-Pierre (auf St. Pierre)', 'Cockburn Town (auf Grand Turk)', 'Al Qahirah / Kairo', 'Alger / Algier', 'Luanda', 'Malabo (auf Bioko)', 'Addis Ababa / Addis Abeba', 'Porto-Novo', 'Gaborone', 'Ouagadougou', 'Bujumbura', 'Yamoussoukro', 'Djibouti / Dschibuti', 'Asmara', 'Mbabane', 'Libreville', 'Banjul', 'Accra', 'Conakry', 'Bissau', 'Yaounde / Jaunde', 'Praia (auf Sao Tiago)', 'Nairobi', 'Moroni (auf Njazidja)', 'Brazzaville', 'Kinshasa', 'Maseru', 'Monrovia', 'Tarabulus / Tripolis', 'Antananarivo', 'Lilongwe', 'Bamako', 'Rabat', 'Nouakchott', 'Port Louis', 'Maputo', 'Windhoek / Windhuk', 'Niamey', 'Abuja', 'Kigali', 'Lusaka', 'Sao Tome (auf Sao Tome)', 'Dakar', 'Victoria (auf Mahe)', 'Freetown', 'Harare', 'Muqdisho / Mogadischu', 'Al Khartum / Khartoum', 'Dschuba / Juba', 'Pretoria', 'Dodoma', 'Lome', \"N'djamena\", 'Tunis', 'Kampala', 'Bangui', 'Mamoudzou', 'Saint Denis', 'Jamestown', 'Laayoune / El Aaiun', 'Canberra', 'Suva (auf Viti Levu)', 'Bairiki (auf Tarawa)', 'Dalap-Uliga-Darrit (auf Majuro)', 'Palikir (auf Pohnpei)', 'Yaren', 'Wellington', 'Melekeok (auf Babelthuap)', 'Port Moresby', 'Honiara (auf Guadalcanal)', 'Apia (auf Upolu)', \"Nuku'alofa (auf Tongatapu)\", 'Vaiaku (auf Funafuti)', 'Port Vila (auf Efate)', 'Pago Pago (auf Tutuila)', 'Avarua (auf Rarotonga)', 'Papeete (auf Tahiti)', 'Hagatna', 'Pulu Panjang / West Island', 'Noumea (auf Grande Terre)', 'Alofi', 'Garapan (auf Saipan)', 'Kingston', 'Adamstown (auf Pitcairn)', 'Mata-Utu (auf Wallis)', 'The Settlement / Flying Fish Cove']\n"
     ]
    }
   ],
   "source": [
    "row1 = []\n",
    "for div in divs:\n",
    "    class_name = div.get('class', [''])[0]\n",
    "    text = div.get_text(strip=True)\n",
    "    if \"Hauptstädte\" in text:\n",
    "        continue\n",
    "    elif class_name.startswith('x2'):\n",
    "        row1.append(div.get_text(strip=True))\n",
    "print(row1)"
   ]
  },
  {
   "cell_type": "code",
   "execution_count": 40,
   "id": "f34d071f-0f0a-4d25-afd4-46fee8eca026",
   "metadata": {},
   "outputs": [
    {
     "name": "stdout",
     "output_type": "stream",
     "text": [
      "['+41.3317 / +19.8172', '+42.5075 / +1.5218', '+53.9678 / +27.5766', '+50.8371 / +4.3676', '+43.8608 / +18.4214', '+42.7105 / +23.3238', '+55.6763 / +12.5681', '+52.5235 / +13.4115', '+59.4389 / +24.7545', '+60.1699 / +24.9384', '+48.8567 / +2.3510', '+37.9792 / +23.7166', '+51.5002 / -0.1262', '+53.3441 / -6.2675', '+64.1353 / -21.8952', '+41.8955 / +12.4823', '+42.6740 / +21.1788', '+45.8150 / +15.9785', '+56.9465 / +24.1049', '+47.1411 / +9.5215', '+54.6896 / +25.2799', '+49.6100 / +6.1296', '+35.9042 / +14.5189', '+47.0167 / +28.8497', '+43.7325 / +7.4189', '+42.4602 / +19.2595', '+52.3738 / +4.8910', '+42.0024 / +21.4361', '+59.9138 / +10.7387', '+48.2092 / +16.3728', '+52.2297 / +21.0122', '+38.7072 / -9.1355', '+44.4479 / +26.0979', '+55.7558 / +37.6176', '+43.9424 / +12.4578', '+59.3328 / +18.0645', '+46.9480 / +7.4481', '+44.8048 / +20.4781', '+48.2116 / +17.1547', '+46.0514 / +14.5060', '+40.4167 / -3.7033', '+50.0878 / +14.4205', '+50.4422 / +30.5367', '+47.4984 / +19.0408', '+62.0177 / -6.7719', '+36.1377 / -5.3453', '+49.4660 / -2.5522', '+54.1670 / -4.4821', '+49.1919 / -2.1071', '+78.2186 / +15.6488', '+34.5155 / +69.1952', '+40.1596 / +44.5090', '+40.3834 / +49.8932', '+26.1921 / +50.5354', '+23.7106 / +90.3978', '+27.4405 / +89.6730', '+4.9431 / +114.9425', '+39.9056 / +116.3958', '+41.7010 / +44.7930', '+28.6353 / +77.2250', '-6.1862 / +106.8063', '+33.3157 / +44.3922', '+35.7061 / +51.4358', '+31.7857 / +35.2007', '+35.6785 / +139.6823', '+15.3556 / +44.2081', '+31.9394 / +35.9349', '+11.5434 / +104.8984', '+51.1796 / +71.4475', '+25.2948 / +51.5082', '+42.8679 / +74.5984', '+29.3721 / +47.9824', '+17.9689 / +102.6137', '+33.8872 / +35.5134', '+3.1502 / +101.7077', '+4.1742 / +73.5109', '+47.9138 / +106.9220', '+19.7540 / +96.1345', '+27.7058 / +85.3157', '+39.0187 / +125.7468', '+23.6086 / +58.5922', '+33.6751 / +73.0946', '+14.5790 / +120.9726', '+24.6748 / +46.6977', '+1.2894 / +103.8500', '+6.9155 / +79.8572', '+33.5158 / +36.2939', '+37.5139 / +126.9828', '+38.5737 / +68.7738', '+13.7573 / +100.5020', '-8.5662 / +125.5880', '+39.9439 / +32.8560', '+37.9509 / +58.3794', '+41.3193 / +69.2481', '+24.4764 / +54.3705', '+21.0341 / +105.8372', '+35.1676 / +33.3736', '+25.0338 / +121.5645', '+17.1175 / -61.8456', '-34.6118 / -58.4173', '+25.0661 / -77.3390', '+13.0935 / -59.6105', '+17.2534 / -88.7713', '-19.0421 / -65.2559', '-15.7801 / -47.9292', '-33.4691 / -70.6420', '+9.9402 / -84.1002', '+15.2976 / -61.3900', '+18.4790 / -69.8908', '-0.2295 / -78.5243', '+13.7034 / -89.2073', '+12.0540 / -61.7486', '+14.6248 / -90.5328', '+6.8046 / -58.1548', '+18.5392 / -72.3288', '+14.0821 / -87.2063', '+17.9927 / -76.7920', '+45.4235 / -75.6979', '+4.6473 / -74.0962', '+23.1333 / -82.3667', '+19.4271 / -99.1276', '+12.1475 / -86.2734', '+8.9943 / -79.5188', '-25.3005 / -57.6362', '-12.0931 / -77.0465', '+17.2968 / -62.7138', '+13.9972 / -61.0018', '+13.2035 / -61.2653', '+5.8232 / -55.1679', '+10.6596 / -61.4789', '-34.8941 / -56.0675', '+10.4961 / -66.8983', '+38.8921 / -77.0241', '+18.3405 / -64.9326', '+18.2249 / -63.0669', '+12.5246 / -70.0265', '+32.2930 / -64.7820', '+18.4328 / -64.6235', '+19.3022 / -81.3857', '-51.7010 / -57.8492', '+4.9346 / -52.3303', '+64.1836 / -51.7214', '+15.9985 / -61.7220', '+14.5997 / -61.0760', '+16.6802 / -62.2014', '+12.1034 / -68.9335', '+18.4500 / -66.0667', '+46.7878 / -56.1968', '+21.4608 / -71.1363', '+30.0571 / +31.2272', '+36.7755 / +3.0597', '-8.8159 / +13.2306', '+3.7523 / +8.7741', '+9.0084 / +38.7575', '+6.4779 / +2.6323', '-24.6570 / +25.9089', '+12.3569 / -1.5352', '-3.3818 / +29.3622', '+6.8067 / -5.2728', '+11.5806 / +43.1425', '+15.3315 / +38.9183', '-26.3186 / +31.1410', '+0.3858 / +9.4496', '+13.4399 / -16.6775', '+5.5401 / -0.2074', '+9.5370 / -13.6785', '+11.8598 / -15.5875', '+3.8612 / +11.5217', '+14.9195 / -23.5153', '-1.2762 / +36.7965', '-11.7004 / +43.2412', '-4.2767 / +15.2662', '-4.3369 / +15.3271', '-29.2976 / +27.4854', '+6.3106 / -10.8047', '+32.8830 / +13.1897', '-18.9201 / +47.5237', '-13.9899 / +33.7703', '+12.6530 / -7.9864', '+33.9905 / -6.8704', '+18.0669 / -15.9900', '-20.1654 / +57.4896', '-25.9686 / +32.5804', '-22.5749 / +17.0805', '+13.5164 / +2.1157', '+9.0580 / +7.4891', '-1.9441 / +30.0619', '-15.4145 / +28.2809', '+0.3360 / +6.7311', '+14.6953 / -17.4439', '-4.6167 / +55.4500', '+8.4697 / -13.2659', '-17.8227 / +31.0496', '+2.0411 / +45.3426', '+15.5501 / +32.5322', '+4.8496 / +31.6046', '-25.7463 / +28.1876', '-6.1670 / +35.7497', '+6.1228 / +1.2255', '+12.1121 / +15.0355', '+36.8117 / +10.1761', '+0.3133 / +32.5714', '+4.3621 / +18.5873', '-12.7806 / +45.2278', '-20.8732 / +55.4603', '-15.9244 / -5.7181', '+27.1536 / -13.2033', '-35.2820 / +149.1286', '-18.1416 / +178.4419', '+1.3282 / +172.9784', '+7.1167 / +171.3667', '+6.9177 / +158.1854', '-0.5434 / +166.9196', '-41.2865 / +174.7762', '+7.5007 / +134.6241', '-9.4656 / +147.1969', '-9.4333 / +159.9500', '-13.8314 / -171.7518', '-21.1360 / -175.2164', '-8.5210 / +179.1983', '-17.7404 / +168.3210', '-14.2793 / -170.7009', '-21.2039 / -159.7658', '-17.5350 / -149.5696', '+13.4667 / +144.7470', '-12.1869 / +96.8283', '-22.2758 / +166.4581', '-19.0565 / -169.9237', '+15.2069 / +145.7197', '-29.0545 / +167.9666', '-25.0662 / -130.1027', '-13.2784 / -176.1430', '-10.4286 / +105.6807']\n"
     ]
    }
   ],
   "source": [
    "row2 = []\n",
    "for div in divs:\n",
    "    class_name = div.get('class', [''])[0]\n",
    "    text = div.get_text(strip=True)\n",
    "    if \"Koordinaten (B / L)\" in text:\n",
    "        continue\n",
    "    elif class_name.startswith('x3'):\n",
    "        row2.append(div.get_text(strip=True))\n",
    "print(row2)"
   ]
  },
  {
   "cell_type": "code",
   "execution_count": 32,
   "id": "221bfcb6-0b16-482a-a005-076d886183d9",
   "metadata": {},
   "outputs": [
    {
     "name": "stdout",
     "output_type": "stream",
     "text": [
      "CSV-Datei 'koordinaten.csv' wurde erfolgreich erstellt.\n"
     ]
    }
   ],
   "source": [
    "import csv\n",
    "\n",
    "# Umwandeln in Liste von [float, float]\n",
    "parsed = [[float(c) for c in coord.split(\" / \")] for coord in row2]\n",
    "\n",
    "# In CSV schreiben\n",
    "with open(\"koordinaten.csv\", \"w\", newline='') as csvfile:\n",
    "    writer = csv.writer(csvfile)\n",
    "    writer.writerows(parsed)\n",
    "\n",
    "print(\"CSV-Datei 'koordinaten.csv' wurde erfolgreich erstellt.\")\n"
   ]
  },
  {
   "cell_type": "code",
   "execution_count": 55,
   "id": "abc7ad0c-0a26-4a66-99dc-031a92d12bb7",
   "metadata": {},
   "outputs": [],
   "source": [
    "import csv\n",
    "\n",
    "liste = []\n",
    "with open('koordinaten.csv', newline='') as csvdatei:\n",
    "    csv_reader_object = csv.reader(csvdatei)\n",
    "    for reihe in csv_reader_object:\n",
    "        # Jede Reihe ist eine Liste mit zwei Strings, z.B. ['12.34', '56.78']\n",
    "        liste.append([float(reihe[0]), float(reihe[1])])  # Optional: Umwandeln in float"
   ]
  },
  {
   "cell_type": "code",
   "execution_count": 56,
   "id": "c637b344-3b35-4b64-a31c-a0d1f1ee3c19",
   "metadata": {},
   "outputs": [],
   "source": [
    " import math\n",
    "\n",
    "def haversine(lat1, lon1, lat2, lon2):\n",
    "    \"\"\"\n",
    "    Berechnet die Entfernung (in Kilometern) zwischen zwei Punkten auf der Erde\n",
    "    unter Verwendung des Haversine-Ansatzes.\n",
    "\n",
    "    :param lat1:  Breitengrad des ersten Punktes in Grad.\n",
    "    :param lon1:  Längengrad des ersten Punktes in Grad.\n",
    "    :param lat2:  Breitengrad des zweiten Punktes in Grad.\n",
    "    :param lon2:  Längengrad des zweiten Punktes in Grad.\n",
    "    :return:     Entfernung in Kilometern.\n",
    "    \"\"\"\n",
    "    R = 6371  # Erdradius in Kilometern\n",
    "\n",
    "    # Umwandlung von Grad in Radiant\n",
    "    lat1_rad = math.radians(lat1)\n",
    "    lon1_rad = math.radians(lon1)\n",
    "    lat2_rad = math.radians(lat2)\n",
    "    lon2_rad = math.radians(lon2)\n",
    "\n",
    "    # Unterschiede der Koordinaten\n",
    "    dlon = lon2_rad - lon1_rad\n",
    "    dlat = lat2_rad - lat1_rad\n",
    "\n",
    "    # Haversine-Formel\n",
    "    a = math.sin(dlat / 2)**2 + math.cos(lat1_rad) * math.cos(lat2_rad) * math.sin(dlon / 2)**2\n",
    "    c = 2 * math.atan2(math.sqrt(a), math.sqrt(1 - a))\n",
    "\n",
    "    distance = R * c\n",
    "    return distance\n"
   ]
  },
  {
   "cell_type": "code",
   "execution_count": 70,
   "id": "fb35488b-8994-4f96-b7a1-7d9fe1cb4558",
   "metadata": {},
   "outputs": [],
   "source": [
    "from scipy.spatial import distance_matrix\n",
    "data = liste\n",
    "ctys = row1\n",
    "df = pd.DataFrame(data, columns=['xcord', 'ycord'], index=ctys)\n",
    "dm = pd.DataFrame(distance_matrix(df.values, df.values), index=df.index, columns=df.index)"
   ]
  },
  {
   "cell_type": "code",
   "execution_count": 71,
   "id": "941064c9-9a2f-401f-8c00-298f850850ad",
   "metadata": {},
   "outputs": [
    {
     "name": "stdout",
     "output_type": "stream",
     "text": [
      "Distanzmatrix als CSV mit Pandas gespeichert.\n"
     ]
    }
   ],
   "source": [
    "import numpy as np\n",
    "\n",
    "df = pd.DataFrame(dm)\n",
    "df.to_csv('distanzmatrix.csv', index=False, header=False)\n",
    "\n",
    "print(\"Distanzmatrix als CSV mit Pandas gespeichert.\")\n"
   ]
  },
  {
   "cell_type": "code",
   "execution_count": 89,
   "id": "2f0cbfc3-dfa1-417d-be06-73d2117b9d23",
   "metadata": {},
   "outputs": [
    {
     "name": "stdout",
     "output_type": "stream",
     "text": [
      "Heatmap erfolgreich als 'heatmap_distanzmatrix.png' gespeichert.\n"
     ]
    }
   ],
   "source": [
    "\n",
    "import seaborn as sns\n",
    "import matplotlib.pyplot as plt\n",
    "\n",
    "distanzmatrix = dm\n",
    "\n",
    "plt.figure(figsize=(8, 6))\n",
    "sns.heatmap(distanzmatrix, annot=True, cmap='coolwarm')\n",
    "plt.title('Heatmap der Distanzmatrix')\n",
    "\n",
    "# Speichern als PNG-Datei\n",
    "plt.savefig('heatmap_distanzmatrix.png', dpi=600, bbox_inches = \"tight\")\n",
    "\n",
    "plt.close()\n",
    "\n",
    "print(\"Heatmap erfolgreich als 'heatmap_distanzmatrix.png' gespeichert.\")\n",
    "\n"
   ]
  },
  {
   "cell_type": "code",
   "execution_count": null,
   "id": "cf734ee8-8757-42ab-803a-f373516285fc",
   "metadata": {},
   "outputs": [],
   "source": []
  }
 ],
 "metadata": {
  "kernelspec": {
   "display_name": "Python [conda env:base] *",
   "language": "python",
   "name": "conda-base-py"
  },
  "language_info": {
   "codemirror_mode": {
    "name": "ipython",
    "version": 3
   },
   "file_extension": ".py",
   "mimetype": "text/x-python",
   "name": "python",
   "nbconvert_exporter": "python",
   "pygments_lexer": "ipython3",
   "version": "3.13.5"
  }
 },
 "nbformat": 4,
 "nbformat_minor": 5
}
